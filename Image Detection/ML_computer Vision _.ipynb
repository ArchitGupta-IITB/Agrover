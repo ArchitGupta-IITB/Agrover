{
    "cells": [
        {
            "cell_type": "code",
            "execution_count": 2,
            "metadata": {},
            "outputs": [],
            "source": [
                "#All necesary libraries\n",
                "import pandas\n",
                "import numpy as np\n",
                "import cv2\n",
                "import os\n",
                "import matplotlib as plt\n"
            ]
        },
        {
            "cell_type": "code",
            "execution_count": 4,
            "metadata": {},
            "outputs": [
                {
                    "name": "stdout",
                    "output_type": "stream",
                    "text": [
                        "['Potato___Early_blight', 'Potato___healthy', 'Potato___Late_blight']\n",
                        "(153, 196608)\n",
                        "(1721, 196608)\n",
                        "(1721,)\n"
                    ]
                }
            ],
            "source": [
                "#Loading \n",
                "\n",
                "def load_data_set():\n",
                "    folder_path_1=os.getcwd()+\"\\PotatoPics\"\n",
                "    files_potato=os.listdir(folder_path_1)\n",
                "    print(files_potato)\n",
                "    potato_healthy_list=[cv2.imread(\"0b3e5032-8ae8-49ac-8157-a1cac3df01dd___RS_HL 1817.JPG\").flatten()/255]\n",
                "    potato_healthy_count=[]\n",
                "    \n",
                "    for files in os.listdir(os.getcwd()+\"\\PotatoPics\\\\\"+ files_potato[1]):\n",
                "        x=os.path.join(os.getcwd(),\"PotatoPics\")\n",
                "        y=os.path.join(x,files_potato[1])\n",
                "        z=os.path.join(y,files)\n",
                "        #print (z)\n",
                "        img_temp=cv2.imread(z)\n",
                "        #print(img_temp.shape)\n",
                "        img_temp_flatten=img_temp.flatten()\n",
                "        potato_healthy_list.append(img_temp_flatten/255)\n",
                "        potato_healthy_count.append(1)\n",
                "        \n",
                "    potato_healthy=np.array(potato_healthy_list,)\n",
                "    print(potato_healthy.shape)\n",
                "    potato_healthy_count_np=np.array(potato_healthy_count)\n",
                "    \n",
                "    potato_early_blight_list=[cv2.imread(\"0a8a68ee-f587-4dea-beec-79d02e7d3fa4___RS_Early.B 8461.JPG\").flatten()/255]\n",
                "    potato_early_blight_count=[1]\n",
                "    \n",
                "    for files in os.listdir(os.getcwd()+\"\\PotatoPics\\\\\"+ files_potato[0]):\n",
                "        x=os.path.join(os.getcwd(),\"PotatoPics\")\n",
                "        y=os.path.join(x,files_potato[0])\n",
                "        z=os.path.join(y,files)\n",
                "        #print (z)\n",
                "        img_temp=cv2.imread(z)\n",
                "        potato_early_blight_list.append(img_temp.flatten()/255)\n",
                "        potato_early_blight_count.append(1)\n",
                "        #potato_healthy.append(img_temp)\n",
                "        #potato_healthy_count.append(1)\n",
                "        \n",
                "    potato_early_blight_count_np=np.array(potato_early_blight_count)\n",
                "    potato_early_blight=np.array(potato_early_blight_list)\n",
                "    \n",
                "    potato_late_blight_list=[cv2.imread(\"0acdc2b2-0dde-4073-8542-6fca275ab974___RS_LB 4857.JPG\").flatten()/255]\n",
                "    potato_late_blight_count=[1]\n",
                "    \n",
                "    for files in os.listdir(os.getcwd()+\"\\PotatoPics\\\\\"+ files_potato[2]):\n",
                "        x=os.path.join(os.getcwd(),\"PotatoPics\")\n",
                "        y=os.path.join(x,files_potato[2])\n",
                "        z=os.path.join(y,files)\n",
                "        #print (z)\n",
                "        img_temp=cv2.imread(z).flatten()\n",
                "        potato_late_blight_list.append(img_temp/255)\n",
                "        potato_late_blight_count.append(1)\n",
                "        #potato_healthy.append(img_temp)\n",
                "        #potato_healthy_count.append(1)\n",
                "    \n",
                "    potato_late_blight=np.array(potato_late_blight_list)\n",
                "    potato_late_blight_count_np=np.array(potato_late_blight_count)\n",
                "    \n",
                "    potato_is_healthy_img_train=np.concatenate((potato_healthy[:int(0.8*152)],potato_late_blight[:int(0.8*1000)],potato_early_blight[:int(0.8*1000)]))\n",
                "    potato_is_healthy_img_test=np.concatenate((potato_healthy[int(0.8*152):],potato_late_blight[int(0.8*1000):],potato_early_blight[int(0.8*1000):]))\n",
                "    potato_healthy_count_np=1-potato_healthy_count_np\n",
                "    potato_is_healthy_res_train=np.concatenate((potato_healthy_count_np[:int(0.8*np.size(potato_healthy_count_np))],potato_late_blight_count_np[:int(0.8*np.size(potato_late_blight_count_np))],potato_early_blight_count_np[:int(0.8*np.size(potato_early_blight_count_np))]))\n",
                "    potato_is_healthy_res_test=np.concatenate((potato_healthy_count_np[int(0.8*np.size(potato_healthy_count_np)):],potato_late_blight_count_np[int(0.8*np.size(potato_late_blight_count_np)):],potato_early_blight_count_np[int(0.8*np.size(potato_early_blight_count_np)):]))\n",
                "    \n",
                "    potato_is_late_img_train=np.concatenate((potato_late_blight[:int(0.8*1000)],potato_early_blight[:int(0.8*1000)]))\n",
                "    potato_is_late_img_test=np.concatenate((potato_late_blight[int(0.8*1000):],potato_early_blight[int(0.8*1000):]))\n",
                "    potato_early_blight_count_np=1-potato_early_blight_count_np\n",
                "    potato_is_late_res_train=np.concatenate((potato_late_blight_count_np[:int(0.8*1000)],potato_early_blight_count_np[:int(0.8*1000)]))\n",
                "    potato_is_late_res_test=np.concatenate((potato_late_blight_count_np[int(0.8*1000):],potato_early_blight_count_np[int(0.8*1000):]))\n",
                "    \n",
                "    return (potato_is_healthy_img_train,potato_is_healthy_res_train,potato_is_healthy_img_test,potato_is_healthy_res_test,potato_is_late_img_train,potato_is_late_res_train,potato_is_late_img_test,potato_is_late_res_test)\n",
                "\n",
                "\n",
                "potato_is_healthy_img_train,potato_is_healthy_res_train,potato_is_healthy_img_test,potato_is_healthy_res_test,potato_is_late_img_train,potato_is_late_res_train,potato_is_late_img_test,potato_is_late_res_test=load_data_set()\n",
                "print(potato_is_healthy_img_train.shape)\n",
                "print(potato_is_healthy_res_train.shape)"
            ]
        },
        {
            "cell_type": "code",
            "execution_count": null,
            "metadata": {},
            "outputs": [],
            "source": [
                "#currently random\n",
                "\"\"\"\n",
                "training_set_number=6\n",
                "train_img_org=np.random.randint(low=0,high=255,size=(training_set_number,1000,1000,3))# \n",
                "train_result_org=np.random.randint(low=0,high=255,size=(training_set_number,1))\n",
                "train_img_altered=train_img_org.reshape(train_img_org.shape[0],-1).T\n",
                "\n",
                "testing_set_number=6\n",
                "test_img_org=np.random.randint(low=0,high=255,size=(testing_set_number ,1000,1000,3))# \n",
                "test_result_org=np.random.randint(low=0,high=255,size=(1,testing_set_number))\n",
                "test_img_altered=train_img_org.reshape(test_img_org.shape[0],-1).T\n",
                "\"\"\""
            ]
        },
        {
            "cell_type": "code",
            "execution_count": 11,
            "metadata": {},
            "outputs": [],
            "source": [
                "#Global Variable\n",
                "\n",
                "w_is_healthy=np.ones(shape=(196608,1))\n",
                "b_is_healthy=0\n",
                "w_is_late=np.ones(shape=(196608,1))\n",
                "b_is_late=0"
            ]
        },
        {
            "cell_type": "code",
            "execution_count": 12,
            "metadata": {},
            "outputs": [],
            "source": [
                "#Useful Functions\n",
                "\n",
                "def relu_sigmoid(z):\n",
                "    d=1+np.exp(-z)\n",
                "    res=1/d\n",
                "    result=np.ones(z.shape)\n",
                "    for i in range(0,res.shape[0]):\n",
                "        if res[i]<0.5:\n",
                "            result[i]=0\n",
                "    return result\n",
                "\"\"\"\n",
                "def define_matrices(dim):\n",
                "    w=np.random.randint(low=0,high=10,size=(dim,1))\n",
                "    b=0\n",
                "    return (w,b)\n",
                "\"\"\"\n",
                "\n",
                "def propagate(w,b,X,Y):\n",
                "    training_set_number=Y.shape[0]\n",
                "    #print(X.shape)\n",
                "    d=np.dot(X,w)\n",
                "    #print(d.shape)\n",
                "    A=relu_sigmoid(d+b)\n",
                "    #print(A.shape)\n",
                "    #print(Y.shape)\n",
                "    Y=np.reshape(Y,(Y.shape[0],1))\n",
                "    #print(Y.shape)\n",
                "    ##cost=-(np.dot(Y,np.log(A).T+np.dot(1-Y,np.log(1-A).T)))/training_set_number    \n",
                "    dw=np.sum(np.dot((A-Y).T,X))/training_set_number\n",
                "    db=4#(np.sum(A-Y))/training_set_number\n",
                "    return (dw,db)\n",
                " \n",
                "def training(w,b,img,res,learning_rate,iterations):\n",
                "    \n",
                "    for i in range(0,iterations):\n",
                "        dw,db=propagate(w,b,img,res)\n",
                "        w=w-learning_rate*dw\n",
                "        b=b-learning_rate*db\n",
                "    \n",
                "    return w,b\n",
                "\n",
                "def model(w_is_healthy,b_is_healthy,w_is_late,b_is_late,learning_rate,iterations):\n",
                "    #potato_is_healthy_img_train,potato_is_healthy_res_train,potato_is_healthy_img_test,potato_is_healthy_res_test,potato_is_late_img_train,potato_is_late_res_train,potato_is_late_img_test,potato_is_late_res_test=load_data_set()    \n",
                "    #global w_is_healthy,b_is_healthy,w_is_late,b_is_late\n",
                "    print(potato_is_healthy_img_train.shape)\n",
                "    print(potato_is_healthy_res_train.shape)\n",
                "    w_is_healthy,b_is_healthy=training(w_is_healthy,b_is_healthy,potato_is_healthy_img_train,potato_is_healthy_res_train,learning_rate,iterations)\n",
                "    w_is_healthy,b_is_healthy=training(w_is_healthy,b_is_healthy,potato_is_healthy_img_train,potato_is_healthy_res_train,learning_rate/4,iterations)\n",
                "    w_is_healthy,b_is_healthy=training(w_is_healthy,b_is_healthy,potato_is_healthy_img_train,potato_is_healthy_res_train,learning_rate/20,iterations)\n",
                "    w_is_late,b_is_late=training(w_is_late,b_is_late,potato_is_late_img_train,potato_is_late_res_train,learning_rate,iterations)\n",
                "    w_is_late,b_is_late=training(w_is_late,b_is_late,potato_is_late_img_train,potato_is_late_res_train,learning_rate/4,iterations)\n",
                "    w_is_late,b_is_late=training(w_is_late,b_is_late,potato_is_late_img_train,potato_is_late_res_train,learning_rate/20,iterations)\n",
                "    \n",
                "    return w_is_healthy,b_is_healthy,w_is_late,b_is_late\n",
                "\n",
                "#w_is_healthy,b_is_healthy,w_is_late,b_is_late=model()\n",
                "         "
            ]
        },
        {
            "cell_type": "code",
            "execution_count": 13,
            "metadata": {},
            "outputs": [
                {
                    "name": "stdout",
                    "output_type": "stream",
                    "text": [
                        "(1721, 196608)\n",
                        "(1721,)\n"
                    ]
                },
                {
                    "name": "stderr",
                    "output_type": "stream",
                    "text": [
                        "C:\\Users\\Archit Gupta\\AppData\\Local\\Temp\\ipykernel_8388\\2191168767.py:4: RuntimeWarning: overflow encountered in exp\n",
                        "  d=1+np.exp(-z)\n"
                    ]
                },
                {
                    "name": "stdout",
                    "output_type": "stream",
                    "text": [
                        "6699.56617105878 4\n"
                    ]
                }
            ],
            "source": [
                "w_is_healthy,b_is_healthy,w_is_late,b_is_late=model(w_is_healthy,b_is_healthy,w_is_late,b_is_late,0.1,10)\n",
                "dw,db=propagate(w_is_healthy,b_is_healthy,potato_is_healthy_img_train,potato_is_healthy_res_train)\n",
                "print (dw,db)"
            ]
        },
        {
            "cell_type": "code",
            "execution_count": 14,
            "metadata": {},
            "outputs": [
                {
                    "name": "stdout",
                    "output_type": "stream",
                    "text": [
                        "(1721, 196608)\n",
                        "(1721,)\n"
                    ]
                },
                {
                    "name": "stderr",
                    "output_type": "stream",
                    "text": [
                        "C:\\Users\\Archit Gupta\\AppData\\Local\\Temp\\ipykernel_8388\\2191168767.py:4: RuntimeWarning: overflow encountered in exp\n",
                        "  d=1+np.exp(-z)\n"
                    ]
                },
                {
                    "name": "stdout",
                    "output_type": "stream",
                    "text": [
                        "6699.56617105878 4\n"
                    ]
                }
            ],
            "source": [
                "w_is_healthy,b_is_healthy,w_is_late,b_is_late=model(w_is_healthy,b_is_healthy,w_is_late,b_is_late,0.1,10)\n",
                "dw,db=propagate(w_is_healthy,b_is_healthy,potato_is_healthy_img_train,potato_is_healthy_res_train)\n",
                "print (dw,db)"
            ]
        },
        {
            "cell_type": "code",
            "execution_count": 1,
            "metadata": {},
            "outputs": [
                {
                    "ename": "NameError",
                    "evalue": "name 'relu_sigmoid' is not defined",
                    "output_type": "error",
                    "traceback": [
                        "\u001b[1;31m---------------------------------------------------------------------------\u001b[0m",
                        "\u001b[1;31mNameError\u001b[0m                                 Traceback (most recent call last)",
                        "\u001b[1;32md:\\Coding Workspace\\Agrover\\Agrover\\Image Detection\\g.ipynb Cell 8\u001b[0m in \u001b[0;36m<cell line: 6>\u001b[1;34m()\u001b[0m\n\u001b[0;32m      <a href='vscode-notebook-cell:/d%3A/Coding%20Workspace/Agrover/Agrover/Image%20Detection/g.ipynb#ch0000007?line=2'>3</a>\u001b[0m     \u001b[39mprint\u001b[39m(A)\n\u001b[0;32m      <a href='vscode-notebook-cell:/d%3A/Coding%20Workspace/Agrover/Agrover/Image%20Detection/g.ipynb#ch0000007?line=3'>4</a>\u001b[0m     \u001b[39mprint\u001b[39m(potato_is_healthy_res_test[index])\n\u001b[1;32m----> <a href='vscode-notebook-cell:/d%3A/Coding%20Workspace/Agrover/Agrover/Image%20Detection/g.ipynb#ch0000007?line=5'>6</a>\u001b[0m predict(\u001b[39m2\u001b[39;49m)\n",
                        "\u001b[1;32md:\\Coding Workspace\\Agrover\\Agrover\\Image Detection\\g.ipynb Cell 8\u001b[0m in \u001b[0;36mpredict\u001b[1;34m(index)\u001b[0m\n\u001b[0;32m      <a href='vscode-notebook-cell:/d%3A/Coding%20Workspace/Agrover/Agrover/Image%20Detection/g.ipynb#ch0000007?line=0'>1</a>\u001b[0m \u001b[39mdef\u001b[39;00m \u001b[39mpredict\u001b[39m(index):\n\u001b[1;32m----> <a href='vscode-notebook-cell:/d%3A/Coding%20Workspace/Agrover/Agrover/Image%20Detection/g.ipynb#ch0000007?line=1'>2</a>\u001b[0m     A\u001b[39m=\u001b[39mrelu_sigmoid(np\u001b[39m.\u001b[39mdot(potato_is_healthy_img_test[index],w_is_healthy\u001b[39m.\u001b[39mT)\u001b[39m+\u001b[39mb_is_healthy)\n\u001b[0;32m      <a href='vscode-notebook-cell:/d%3A/Coding%20Workspace/Agrover/Agrover/Image%20Detection/g.ipynb#ch0000007?line=2'>3</a>\u001b[0m     \u001b[39mprint\u001b[39m(A)\n\u001b[0;32m      <a href='vscode-notebook-cell:/d%3A/Coding%20Workspace/Agrover/Agrover/Image%20Detection/g.ipynb#ch0000007?line=3'>4</a>\u001b[0m     \u001b[39mprint\u001b[39m(potato_is_healthy_res_test[index])\n",
                        "\u001b[1;31mNameError\u001b[0m: name 'relu_sigmoid' is not defined"
                    ]
                }
            ],
            "source": [
                "def predict(index):\n",
                "    A=relu_sigmoid(np.dot(potato_is_healthy_img_test[index],w_is_healthy.T)+b_is_healthy)\n",
                "    print(A)\n",
                "    print(potato_is_healthy_res_test[index])\n",
                "    \n",
                "predict(2)"
            ]
        }
    ],
    "metadata": {
        "kernelspec": {
            "display_name": "Python 3.10.4 64-bit",
            "language": "python",
            "name": "python3"
        },
        "language_info": {
            "codemirror_mode": {
                "name": "ipython",
                "version": 3
            },
            "file_extension": ".py",
            "mimetype": "text/x-python",
            "name": "python",
            "nbconvert_exporter": "python",
            "pygments_lexer": "ipython3",
            "version": "3.10.4"
        },
        "orig_nbformat": 4,
        "vscode": {
            "interpreter": {
                "hash": "26de051ba29f2982a8de78e945f0abaf191376122a1563185a90213a26c5da77"
            }
        }
    },
    "nbformat": 4,
    "nbformat_minor": 2
}
