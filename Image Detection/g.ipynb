{
    "cells": [
        {
            "cell_type": "code",
            "execution_count": 1,
            "metadata": {},
            "outputs": [],
            "source": [
                "#All necesary libraries\n",
                "import pandas\n",
                "import numpy as np\n",
                "import cv2\n",
                "import os\n",
                "import matplotlib as plt\n"
            ]
        },
        {
            "cell_type": "code",
            "execution_count": 2,
            "metadata": {},
            "outputs": [
                {
                    "name": "stdout",
                    "output_type": "stream",
                    "text": [
                        "['Potato___Early_blight', 'Potato___healthy', 'Potato___Late_blight']\n"
                    ]
                },
                {
                    "data": {
                        "text/plain": [
                            "(1600, 196608)"
                        ]
                    },
                    "execution_count": 2,
                    "metadata": {},
                    "output_type": "execute_result"
                }
            ],
            "source": [
                "#Loading \n",
                "\n",
                "def load_data_set():\n",
                "    folder_path_1=os.getcwd()+\"\\PotatoPics\"\n",
                "    files_potato=os.listdir(folder_path_1)\n",
                "    print(files_potato)\n",
                "    potato_healthy_list=[cv2.imread(\"0b3e5032-8ae8-49ac-8157-a1cac3df01dd___RS_HL 1817.JPG\").flatten()]\n",
                "    potato_healthy_count=[1]\n",
                "    \n",
                "    for files in os.listdir(os.getcwd()+\"\\PotatoPics\\\\\"+ files_potato[1]):\n",
                "        x=os.path.join(os.getcwd(),\"PotatoPics\")\n",
                "        y=os.path.join(x,files_potato[1])\n",
                "        z=os.path.join(y,files)\n",
                "        #print (z)\n",
                "        img_temp=cv2.imread(z)\n",
                "        #print(img_temp.shape)\n",
                "        img_temp_flatten=img_temp.flatten()\n",
                "        potato_healthy_list.append(img_temp_flatten)\n",
                "        potato_healthy_count.append(1)\n",
                "        \n",
                "    potato_healthy=np.array(potato_healthy_list)\n",
                "    potato_healthy_count_np=np.array(potato_healthy_count)\n",
                "    \n",
                "    potato_early_blight_list=[cv2.imread(\"0a8a68ee-f587-4dea-beec-79d02e7d3fa4___RS_Early.B 8461.JPG\").flatten()]\n",
                "    potato_early_blight_count=[1]\n",
                "    \n",
                "    for files in os.listdir(os.getcwd()+\"\\PotatoPics\\\\\"+ files_potato[0]):\n",
                "        x=os.path.join(os.getcwd(),\"PotatoPics\")\n",
                "        y=os.path.join(x,files_potato[0])\n",
                "        z=os.path.join(y,files)\n",
                "        #print (z)\n",
                "        img_temp=cv2.imread(z)\n",
                "        potato_early_blight_list.append(img_temp.flatten())\n",
                "        potato_early_blight_count.append(1)\n",
                "        #potato_healthy.append(img_temp)\n",
                "        #potato_healthy_count.append(1)\n",
                "        \n",
                "    potato_early_blight_count_np=np.array(potato_early_blight_count)\n",
                "    potato_early_blight=np.array(potato_early_blight_list)\n",
                "    \n",
                "    potato_late_blight_list=[cv2.imread(\"0acdc2b2-0dde-4073-8542-6fca275ab974___RS_LB 4857.JPG\").flatten()]\n",
                "    potato_late_blight_count=[1]\n",
                "    \n",
                "    for files in os.listdir(os.getcwd()+\"\\PotatoPics\\\\\"+ files_potato[2]):\n",
                "        x=os.path.join(os.getcwd(),\"PotatoPics\")\n",
                "        y=os.path.join(x,files_potato[2])\n",
                "        z=os.path.join(y,files)\n",
                "        #print (z)\n",
                "        img_temp=cv2.imread(z).flatten()\n",
                "        potato_late_blight_list.append(img_temp)\n",
                "        potato_late_blight_count.append(1)\n",
                "        #potato_healthy.append(img_temp)\n",
                "        #potato_healthy_count.append(1)\n",
                "    \n",
                "    potato_late_blight=np.array(potato_late_blight_list)\n",
                "    potato_late_blight_count_np=np.array(potato_late_blight_count)\n",
                "    \n",
                "    potato_is_healthy_img_train=np.concatenate((potato_healthy[:int(0.8*152)],potato_late_blight[:int(0.8*1000)],potato_early_blight[:int(0.8*1000)]))\n",
                "    potato_is_healthy_img_test=np.concatenate((potato_healthy[int(0.8*152):],potato_late_blight[int(0.8*1000):],potato_early_blight[int(0.8*1000):]))\n",
                "    potato_healthy_count_np=1-potato_healthy_count_np\n",
                "    potato_is_healthy_res_train=np.concatenate((potato_healthy_count_np[:int(0.8*np.size(potato_healthy_count_np))],potato_late_blight_count_np[:int(0.8*np.size(potato_late_blight_count_np))],potato_early_blight_count_np[:int(0.8*np.size(potato_early_blight_count_np))]))\n",
                "    potato_is_healthy_res_test=np.concatenate((potato_healthy_count_np[int(0.8*np.size(potato_healthy_count_np)):],potato_late_blight_count_np[int(0.8*np.size(potato_late_blight_count_np)):],potato_early_blight_count_np[int(0.8*np.size(potato_early_blight_count_np)):]))\n",
                "    \n",
                "    potato_is_late_img_train=np.concatenate((potato_late_blight[:int(0.8*1000)],potato_early_blight[:int(0.8*1000)]))\n",
                "    potato_is_late_img_test=np.concatenate((potato_late_blight[int(0.8*1000):],potato_early_blight[int(0.8*1000):]))\n",
                "    potato_early_blight_count_np=1-potato_early_blight_count_np\n",
                "    potato_is_late_res_train=np.concatenate((potato_late_blight_count_np[:int(0.8*1000)],potato_early_blight_count_np[:int(0.8*1000)]))\n",
                "    potato_is_late_res_test=np.concatenate((potato_late_blight_count_np[int(0.8*1000):],potato_early_blight_count_np[int(0.8*1000):]))\n",
                "\n",
                "    return (potato_is_healthy_img_train,potato_is_healthy_res_train,potato_is_healthy_img_test,potato_is_healthy_res_test,potato_is_late_img_train,potato_is_late_res_train,potato_is_late_img_test,potato_is_late_res_test)\n",
                "\n",
                "\n",
                "potato_is_healthy_img_train,potato_is_healthy_res_train,potato_is_healthy_img_test,potato_is_healthy_res_test,potato_is_late_img_train,potato_is_late_res_train,potato_is_late_img_test,potato_is_late_res_test=load_data_set()\n",
                "potato_is_late_img_train.shape"
            ]
        },
        {
            "cell_type": "code",
            "execution_count": null,
            "metadata": {},
            "outputs": [],
            "source": [
                "#currently random\n",
                "\"\"\"\n",
                "training_set_number=6\n",
                "train_img_org=np.random.randint(low=0,high=255,size=(training_set_number,1000,1000,3))# \n",
                "train_result_org=np.random.randint(low=0,high=255,size=(training_set_number,1))\n",
                "train_img_altered=train_img_org.reshape(train_img_org.shape[0],-1).T\n",
                "\n",
                "testing_set_number=6\n",
                "test_img_org=np.random.randint(low=0,high=255,size=(testing_set_number ,1000,1000,3))# \n",
                "test_result_org=np.random.randint(low=0,high=255,size=(1,testing_set_number))\n",
                "test_img_altered=train_img_org.reshape(test_img_org.shape[0],-1).T\n",
                "\"\"\""
            ]
        },
        {
            "cell_type": "code",
            "execution_count": 7,
            "metadata": {},
            "outputs": [],
            "source": [
                "#Global Variable\n",
                "\n",
                "w_is_healthy=np.zeros(shape=(196608,1))\n",
                "b_is_healthy=0\n",
                "w_is_late=np.zeros(shape=(196608,1))\n",
                "b_is_late=0"
            ]
        },
        {
            "cell_type": "code",
            "execution_count": 19,
            "metadata": {},
            "outputs": [
                {
                    "ename": "ValueError",
                    "evalue": "shapes (196608,1) and (1721,196608) not aligned: 1 (dim 1) != 1721 (dim 0)",
                    "output_type": "error",
                    "traceback": [
                        "\u001b[1;31m---------------------------------------------------------------------------\u001b[0m",
                        "\u001b[1;31mValueError\u001b[0m                                Traceback (most recent call last)",
                        "\u001b[1;32md:\\Coding Workspace\\Agrover\\Agrover\\Image Detection\\g.ipynb Cell 5\u001b[0m in \u001b[0;36m<cell line: 42>\u001b[1;34m()\u001b[0m\n\u001b[0;32m     <a href='vscode-notebook-cell:/d%3A/Coding%20Workspace/Agrover/Agrover/Image%20Detection/g.ipynb#ch0000004?line=37'>38</a>\u001b[0m     w_is_late,b_is_late\u001b[39m=\u001b[39mtraining(w_is_late,b_is_late,potato_is_late_img_train,potato_is_late_res_train,\u001b[39m0.2\u001b[39m,\u001b[39m1000\u001b[39m)\n\u001b[0;32m     <a href='vscode-notebook-cell:/d%3A/Coding%20Workspace/Agrover/Agrover/Image%20Detection/g.ipynb#ch0000004?line=39'>40</a>\u001b[0m     \u001b[39mreturn\u001b[39;00m w_is_healthy,b_is_healthy,w_is_late,b_is_late\n\u001b[1;32m---> <a href='vscode-notebook-cell:/d%3A/Coding%20Workspace/Agrover/Agrover/Image%20Detection/g.ipynb#ch0000004?line=41'>42</a>\u001b[0m w_is_healthy,b_is_healthy,w_is_late,b_is_late\u001b[39m=\u001b[39mmodel()\n",
                        "\u001b[1;32md:\\Coding Workspace\\Agrover\\Agrover\\Image Detection\\g.ipynb Cell 5\u001b[0m in \u001b[0;36mmodel\u001b[1;34m()\u001b[0m\n\u001b[0;32m     <a href='vscode-notebook-cell:/d%3A/Coding%20Workspace/Agrover/Agrover/Image%20Detection/g.ipynb#ch0000004?line=29'>30</a>\u001b[0m \u001b[39mdef\u001b[39;00m \u001b[39mmodel\u001b[39m():\n\u001b[0;32m     <a href='vscode-notebook-cell:/d%3A/Coding%20Workspace/Agrover/Agrover/Image%20Detection/g.ipynb#ch0000004?line=30'>31</a>\u001b[0m     \u001b[39m#potato_is_healthy_img_train,potato_is_healthy_res_train,potato_is_healthy_img_test,potato_is_healthy_res_test,potato_is_late_img_train,potato_is_late_res_train,potato_is_late_img_test,potato_is_late_res_test=load_data_set()    \u001b[39;00m\n\u001b[0;32m     <a href='vscode-notebook-cell:/d%3A/Coding%20Workspace/Agrover/Agrover/Image%20Detection/g.ipynb#ch0000004?line=31'>32</a>\u001b[0m     \u001b[39mglobal\u001b[39;00m w_is_healthy,b_is_healthy,w_is_late,b_is_late\n\u001b[1;32m---> <a href='vscode-notebook-cell:/d%3A/Coding%20Workspace/Agrover/Agrover/Image%20Detection/g.ipynb#ch0000004?line=32'>33</a>\u001b[0m     w_is_healthy,b_is_healthy\u001b[39m=\u001b[39mtraining(w_is_healthy,b_is_healthy,potato_is_healthy_img_train,potato_is_healthy_res_train,\u001b[39m10\u001b[39;49m,\u001b[39m1000\u001b[39;49m)\n\u001b[0;32m     <a href='vscode-notebook-cell:/d%3A/Coding%20Workspace/Agrover/Agrover/Image%20Detection/g.ipynb#ch0000004?line=33'>34</a>\u001b[0m     w_is_healthy,b_is_healthy\u001b[39m=\u001b[39mtraining(w_is_healthy,b_is_healthy,potato_is_healthy_img_train,potato_is_healthy_res_train,\u001b[39m5\u001b[39m,\u001b[39m1000\u001b[39m)\n\u001b[0;32m     <a href='vscode-notebook-cell:/d%3A/Coding%20Workspace/Agrover/Agrover/Image%20Detection/g.ipynb#ch0000004?line=34'>35</a>\u001b[0m     w_is_healthy,b_is_healthy\u001b[39m=\u001b[39mtraining(w_is_healthy,b_is_healthy,potato_is_healthy_img_train,potato_is_healthy_res_train,\u001b[39m0.2\u001b[39m,\u001b[39m1000\u001b[39m)\n",
                        "\u001b[1;32md:\\Coding Workspace\\Agrover\\Agrover\\Image Detection\\g.ipynb Cell 5\u001b[0m in \u001b[0;36mtraining\u001b[1;34m(w, b, img, res, learning_rate, iterations)\u001b[0m\n\u001b[0;32m     <a href='vscode-notebook-cell:/d%3A/Coding%20Workspace/Agrover/Agrover/Image%20Detection/g.ipynb#ch0000004?line=20'>21</a>\u001b[0m \u001b[39mdef\u001b[39;00m \u001b[39mtraining\u001b[39m(w,b,img,res,learning_rate,iterations):\n\u001b[0;32m     <a href='vscode-notebook-cell:/d%3A/Coding%20Workspace/Agrover/Agrover/Image%20Detection/g.ipynb#ch0000004?line=22'>23</a>\u001b[0m     \u001b[39mfor\u001b[39;00m i \u001b[39min\u001b[39;00m \u001b[39mrange\u001b[39m(\u001b[39m0\u001b[39m,iterations):\n\u001b[1;32m---> <a href='vscode-notebook-cell:/d%3A/Coding%20Workspace/Agrover/Agrover/Image%20Detection/g.ipynb#ch0000004?line=23'>24</a>\u001b[0m         dw,db\u001b[39m=\u001b[39mpropagate(w,b,img,res)\n\u001b[0;32m     <a href='vscode-notebook-cell:/d%3A/Coding%20Workspace/Agrover/Agrover/Image%20Detection/g.ipynb#ch0000004?line=24'>25</a>\u001b[0m         w\u001b[39m=\u001b[39mw\u001b[39m-\u001b[39mlearning_rate\u001b[39m*\u001b[39mdw\n\u001b[0;32m     <a href='vscode-notebook-cell:/d%3A/Coding%20Workspace/Agrover/Agrover/Image%20Detection/g.ipynb#ch0000004?line=25'>26</a>\u001b[0m         b\u001b[39m=\u001b[39mb\u001b[39m-\u001b[39mlearning_rate\u001b[39m*\u001b[39mdb\n",
                        "\u001b[1;32md:\\Coding Workspace\\Agrover\\Agrover\\Image Detection\\g.ipynb Cell 5\u001b[0m in \u001b[0;36mpropagate\u001b[1;34m(w, b, X, Y)\u001b[0m\n\u001b[0;32m     <a href='vscode-notebook-cell:/d%3A/Coding%20Workspace/Agrover/Agrover/Image%20Detection/g.ipynb#ch0000004?line=12'>13</a>\u001b[0m \u001b[39mdef\u001b[39;00m \u001b[39mpropagate\u001b[39m(w,b,X,Y):\n\u001b[0;32m     <a href='vscode-notebook-cell:/d%3A/Coding%20Workspace/Agrover/Agrover/Image%20Detection/g.ipynb#ch0000004?line=13'>14</a>\u001b[0m     training_set_number\u001b[39m=\u001b[39mY\u001b[39m.\u001b[39mshape[\u001b[39m0\u001b[39m]\n\u001b[1;32m---> <a href='vscode-notebook-cell:/d%3A/Coding%20Workspace/Agrover/Agrover/Image%20Detection/g.ipynb#ch0000004?line=14'>15</a>\u001b[0m     A\u001b[39m=\u001b[39mrelu_sigmoid(np\u001b[39m.\u001b[39;49mdot(w,X)\u001b[39m+\u001b[39mb)\n\u001b[0;32m     <a href='vscode-notebook-cell:/d%3A/Coding%20Workspace/Agrover/Agrover/Image%20Detection/g.ipynb#ch0000004?line=15'>16</a>\u001b[0m     \u001b[39m#cost=-(np.dot(Y,np.log(A).T+np.dot(1-Y,np.log(1-A).T)))/training_set_number    \u001b[39;00m\n\u001b[0;32m     <a href='vscode-notebook-cell:/d%3A/Coding%20Workspace/Agrover/Agrover/Image%20Detection/g.ipynb#ch0000004?line=16'>17</a>\u001b[0m     dw\u001b[39m=\u001b[39mnp\u001b[39m.\u001b[39msum(X\u001b[39m*\u001b[39m(A\u001b[39m-\u001b[39mY))\u001b[39m/\u001b[39mtraining_set_number\n",
                        "File \u001b[1;32m<__array_function__ internals>:180\u001b[0m, in \u001b[0;36mdot\u001b[1;34m(*args, **kwargs)\u001b[0m\n",
                        "\u001b[1;31mValueError\u001b[0m: shapes (196608,1) and (1721,196608) not aligned: 1 (dim 1) != 1721 (dim 0)"
                    ]
                }
            ],
            "source": [
                "#Useful Functions\n",
                "\n",
                "def relu_sigmoid(z):\n",
                "    res=1/(1+np.exp(-z))\n",
                "    return res\n",
                "\"\"\"\n",
                "def define_matrices(dim):\n",
                "    w=np.random.randint(low=0,high=10,size=(dim,1))\n",
                "    b=0\n",
                "    return (w,b)\n",
                "\"\"\"\n",
                "\n",
                "def propagate(w,b,X,Y):\n",
                "    training_set_number=Y.shape[0]\n",
                "    A=relu_sigmoid(np.dot(w,X)+b)\n",
                "    #cost=-(np.dot(Y,np.log(A).T+np.dot(1-Y,np.log(1-A).T)))/training_set_number    \n",
                "    dw=np.sum(X*(A-Y))/training_set_number\n",
                "    db=(np.sum(A-Y))/training_set_number\n",
                "    return (dw,db)\n",
                " \n",
                "def training(w,b,img,res,learning_rate,iterations):\n",
                "    \n",
                "    for i in range(0,iterations):\n",
                "        dw,db=propagate(w,b,img,res)\n",
                "        w=w-learning_rate*dw\n",
                "        b=b-learning_rate*db\n",
                "    \n",
                "    return w,b\n",
                "\n",
                "def model():\n",
                "    #potato_is_healthy_img_train,potato_is_healthy_res_train,potato_is_healthy_img_test,potato_is_healthy_res_test,potato_is_late_img_train,potato_is_late_res_train,potato_is_late_img_test,potato_is_late_res_test=load_data_set()    \n",
                "    global w_is_healthy,b_is_healthy,w_is_late,b_is_late\n",
                "    w_is_healthy,b_is_healthy=training(w_is_healthy,b_is_healthy,potato_is_healthy_img_train,potato_is_healthy_res_train,10,1000)\n",
                "    w_is_healthy,b_is_healthy=training(w_is_healthy,b_is_healthy,potato_is_healthy_img_train,potato_is_healthy_res_train,5,1000)\n",
                "    w_is_healthy,b_is_healthy=training(w_is_healthy,b_is_healthy,potato_is_healthy_img_train,potato_is_healthy_res_train,0.2,1000)\n",
                "    w_is_late,b_is_late=training(w_is_late,b_is_late,potato_is_late_img_train,potato_is_late_res_train,10,1000)\n",
                "    w_is_late,b_is_late=training(w_is_late,b_is_late,potato_is_late_img_train,potato_is_late_res_train,5,1000)\n",
                "    w_is_late,b_is_late=training(w_is_late,b_is_late,potato_is_late_img_train,potato_is_late_res_train,0.2,1000)\n",
                "    \n",
                "    return w_is_healthy,b_is_healthy,w_is_late,b_is_late\n",
                "\n",
                "w_is_healthy,b_is_healthy,w_is_late,b_is_late=model()\n",
                "         "
            ]
        },
        {
            "cell_type": "code",
            "execution_count": null,
            "metadata": {},
            "outputs": [],
            "source": []
        }
    ],
    "metadata": {
        "kernelspec": {
            "display_name": "Python 3.10.4 64-bit",
            "language": "python",
            "name": "python3"
        },
        "language_info": {
            "codemirror_mode": {
                "name": "ipython",
                "version": 3
            },
            "file_extension": ".py",
            "mimetype": "text/x-python",
            "name": "python",
            "nbconvert_exporter": "python",
            "pygments_lexer": "ipython3",
            "version": "3.10.4"
        },
        "orig_nbformat": 4,
        "vscode": {
            "interpreter": {
                "hash": "26de051ba29f2982a8de78e945f0abaf191376122a1563185a90213a26c5da77"
            }
        }
    },
    "nbformat": 4,
    "nbformat_minor": 2
}
