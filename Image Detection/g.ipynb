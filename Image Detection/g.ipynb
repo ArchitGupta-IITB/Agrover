{
    "cells": [
        {
            "cell_type": "code",
            "execution_count": 9,
            "metadata": {},
            "outputs": [],
            "source": [
                "#All necesary libraries\n",
                "import pandas\n",
                "import numpy as np\n",
                "import cv2\n",
                "import os\n",
                "import matplotlib as plt\n"
            ]
        },
        {
            "cell_type": "code",
            "execution_count": 19,
            "metadata": {},
            "outputs": [
                {
                    "name": "stdout",
                    "output_type": "stream",
                    "text": [
                        "['Potato___Early_blight', 'Potato___healthy', 'Potato___Late_blight']\n"
                    ]
                },
                {
                    "ename": "TypeError",
                    "evalue": "concatenate() got multiple values for argument 'axis'",
                    "output_type": "error",
                    "traceback": [
                        "\u001b[1;31m---------------------------------------------------------------------------\u001b[0m",
                        "\u001b[1;31mTypeError\u001b[0m                                 Traceback (most recent call last)",
                        "\u001b[1;32md:\\Coding Workspace\\Agrover\\Agrover\\Image Detection\\g.ipynb Cell 2\u001b[0m in \u001b[0;36m<cell line: 70>\u001b[1;34m()\u001b[0m\n\u001b[0;32m     <a href='vscode-notebook-cell:/d%3A/Coding%20Workspace/Agrover/Agrover/Image%20Detection/g.ipynb#ch0000001?line=64'>65</a>\u001b[0m     potato_is_late_res_test\u001b[39m=\u001b[39mnp\u001b[39m.\u001b[39mconcatenate(potato_late_blight_count_np[\u001b[39mint\u001b[39m(\u001b[39m0.8\u001b[39m\u001b[39m*\u001b[39mnp\u001b[39m.\u001b[39msize(potato_late_blight_count_np)):],potato_early_blight_count_np[\u001b[39mint\u001b[39m(\u001b[39m0.8\u001b[39m\u001b[39m*\u001b[39mnp\u001b[39m.\u001b[39msize(potato_early_blight_count_np)):],axis\u001b[39m=\u001b[39m\u001b[39m0\u001b[39m)\n\u001b[0;32m     <a href='vscode-notebook-cell:/d%3A/Coding%20Workspace/Agrover/Agrover/Image%20Detection/g.ipynb#ch0000001?line=66'>67</a>\u001b[0m     \u001b[39mreturn\u001b[39;00m (potato_is_healthy_img_train,potato_is_healthy_res_train,potato_is_healthy_img_test,potato_is_healthy_res_test,potato_is_late_img_train,potato_is_late_res_train,potato_is_late_img_test,potato_is_late_res_test)\n\u001b[1;32m---> <a href='vscode-notebook-cell:/d%3A/Coding%20Workspace/Agrover/Agrover/Image%20Detection/g.ipynb#ch0000001?line=69'>70</a>\u001b[0m potato_is_healthy_img_train,potato_is_healthy_res_train,potato_is_healthy_img_test,potato_is_healthy_res_test,potato_is_late_img_train,potato_is_late_res_train,potato_is_late_img_test,potato_is_late_res_test\u001b[39m=\u001b[39mload_data_set()\n",
                        "\u001b[1;32md:\\Coding Workspace\\Agrover\\Agrover\\Image Detection\\g.ipynb Cell 2\u001b[0m in \u001b[0;36mload_data_set\u001b[1;34m()\u001b[0m\n\u001b[0;32m     <a href='vscode-notebook-cell:/d%3A/Coding%20Workspace/Agrover/Agrover/Image%20Detection/g.ipynb#ch0000001?line=49'>50</a>\u001b[0m     \u001b[39m#potato_healthy.append(img_temp)\u001b[39;00m\n\u001b[0;32m     <a href='vscode-notebook-cell:/d%3A/Coding%20Workspace/Agrover/Agrover/Image%20Detection/g.ipynb#ch0000001?line=50'>51</a>\u001b[0m     \u001b[39m#potato_healthy_count.append(1)\u001b[39;00m\n\u001b[0;32m     <a href='vscode-notebook-cell:/d%3A/Coding%20Workspace/Agrover/Agrover/Image%20Detection/g.ipynb#ch0000001?line=52'>53</a>\u001b[0m potato_late_blight_count_np\u001b[39m=\u001b[39mnp\u001b[39m.\u001b[39marray(potato_late_blight_count)\n\u001b[1;32m---> <a href='vscode-notebook-cell:/d%3A/Coding%20Workspace/Agrover/Agrover/Image%20Detection/g.ipynb#ch0000001?line=54'>55</a>\u001b[0m potato_is_healthy_img_train\u001b[39m=\u001b[39mnp\u001b[39m.\u001b[39mconcatenate(np\u001b[39m.\u001b[39;49mconcatenate(potato_healthy[:\u001b[39mint\u001b[39;49m(\u001b[39m0.8\u001b[39;49m\u001b[39m*\u001b[39;49m\u001b[39m152\u001b[39;49m),:],potato_late_blight[:\u001b[39mint\u001b[39;49m(\u001b[39m0.8\u001b[39;49m\u001b[39m*\u001b[39;49m\u001b[39m1000\u001b[39;49m),:],axis\u001b[39m=\u001b[39;49m\u001b[39m0\u001b[39;49m),potato_early_blight[:\u001b[39mint\u001b[39m(\u001b[39m0.8\u001b[39m\u001b[39m*\u001b[39m\u001b[39m1000\u001b[39m),:],axis\u001b[39m=\u001b[39m\u001b[39m0\u001b[39m)\n\u001b[0;32m     <a href='vscode-notebook-cell:/d%3A/Coding%20Workspace/Agrover/Agrover/Image%20Detection/g.ipynb#ch0000001?line=55'>56</a>\u001b[0m potato_is_healthy_img_test\u001b[39m=\u001b[39mnp\u001b[39m.\u001b[39mconcatenate(np\u001b[39m.\u001b[39mconcatenate(potato_healthy[\u001b[39mint\u001b[39m(\u001b[39m0.8\u001b[39m\u001b[39m*\u001b[39mnp\u001b[39m.\u001b[39msize(potato_healthy)):],potato_late_blight[\u001b[39mint\u001b[39m(\u001b[39m0.8\u001b[39m\u001b[39m*\u001b[39mnp\u001b[39m.\u001b[39msize(potato_late_blight)):],axis\u001b[39m=\u001b[39m\u001b[39m0\u001b[39m),potato_early_blight[\u001b[39mint\u001b[39m(\u001b[39m0.8\u001b[39m\u001b[39m*\u001b[39mnp\u001b[39m.\u001b[39msize(potato_early_blight)):],axis\u001b[39m=\u001b[39m\u001b[39m0\u001b[39m)\n\u001b[0;32m     <a href='vscode-notebook-cell:/d%3A/Coding%20Workspace/Agrover/Agrover/Image%20Detection/g.ipynb#ch0000001?line=56'>57</a>\u001b[0m potato_healthy_count_np\u001b[39m=\u001b[39m\u001b[39m1\u001b[39m\u001b[39m-\u001b[39mpotato_healthy_count_np\n",
                        "File \u001b[1;32m<__array_function__ internals>:179\u001b[0m, in \u001b[0;36mconcatenate\u001b[1;34m(*args, **kwargs)\u001b[0m\n",
                        "\u001b[1;31mTypeError\u001b[0m: concatenate() got multiple values for argument 'axis'"
                    ]
                }
            ],
            "source": [
                "#Loading \n",
                "\n",
                "def load_data_set():\n",
                "    folder_path_1=os.getcwd()+\"\\PotatoPics\"\n",
                "    files_potato=os.listdir(folder_path_1)\n",
                "    print(files_potato)\n",
                "    potato_healthy=np.array(cv2.imread(\"0b3e5032-8ae8-49ac-8157-a1cac3df01dd___RS_HL 1817.JPG\"),ndmin=1)\n",
                "    potato_healthy_count=[]\n",
                "    \n",
                "    for files in os.listdir(os.getcwd()+\"\\PotatoPics\\\\\"+ files_potato[1]):\n",
                "        x=os.path.join(os.getcwd(),\"PotatoPics\")\n",
                "        y=os.path.join(x,files_potato[1])\n",
                "        z=os.path.join(y,files)\n",
                "        #print (z)\n",
                "        img_temp=cv2.imread(z)\n",
                "        np.append(potato_healthy,img_temp,0)\n",
                "        potato_healthy_count.append(1)\n",
                "        #potato_healthy.append(img_temp)\n",
                "        #potato_healthy_count.append(1)\n",
                "        \n",
                "    potato_healthy_count_np=np.array(potato_healthy_count)\n",
                "    \n",
                "    potato_early_blight=np.array(cv2.imread(\"0a8a68ee-f587-4dea-beec-79d02e7d3fa4___RS_Early.B 8461.JPG\"),ndmin=1)\n",
                "    potato_early_blight_count=[]\n",
                "    \n",
                "    for files in os.listdir(os.getcwd()+\"\\PotatoPics\\\\\"+ files_potato[0]):\n",
                "        x=os.path.join(os.getcwd(),\"PotatoPics\")\n",
                "        y=os.path.join(x,files_potato[0])\n",
                "        z=os.path.join(y,files)\n",
                "        #print (z)\n",
                "        img_temp=cv2.imread(z)\n",
                "        np.append(potato_early_blight,img_temp,0)\n",
                "        potato_early_blight_count.append(1)\n",
                "        #potato_healthy.append(img_temp)\n",
                "        #potato_healthy_count.append(1)\n",
                "        \n",
                "    potato_early_blight_count_np=np.array(potato_early_blight_count)\n",
                "    \n",
                "    potato_late_blight=np.array(cv2.imread(\"0acdc2b2-0dde-4073-8542-6fca275ab974___RS_LB 4857.JPG\"),ndmin=1)\n",
                "    potato_late_blight_count=[]\n",
                "    \n",
                "    for files in os.listdir(os.getcwd()+\"\\PotatoPics\\\\\"+ files_potato[2]):\n",
                "        x=os.path.join(os.getcwd(),\"PotatoPics\")\n",
                "        y=os.path.join(x,files_potato[2])\n",
                "        z=os.path.join(y,files)\n",
                "        #print (z)\n",
                "        img_temp=cv2.imread(z)\n",
                "        np.append(potato_late_blight,img_temp,0)\n",
                "        potato_late_blight_count.append(1)\n",
                "        #potato_healthy.append(img_temp)\n",
                "        #potato_healthy_count.append(1)\n",
                "        \n",
                "    potato_late_blight_count_np=np.array(potato_late_blight_count)\n",
                "    \n",
                "    potato_is_healthy_img_train=np.concatenate(np.concatenate(potato_healthy[:int(0.8*152),:],potato_late_blight[:int(0.8*1000),:],axis=0),potato_early_blight[:int(0.8*1000),:],axis=0)\n",
                "    potato_is_healthy_img_test=np.concatenate(np.concatenate(potato_healthy[int(0.8*np.size(potato_healthy)):],potato_late_blight[int(0.8*np.size(potato_late_blight)):],axis=0),potato_early_blight[int(0.8*np.size(potato_early_blight)):],axis=0)\n",
                "    potato_healthy_count_np=1-potato_healthy_count_np\n",
                "    potato_is_healthy_res_train=np.concatenate(np.concatenate(potato_healthy_count_np[:int(0.8*np.size(potato_healthy_count_np))],potato_late_blight_count_np[:int(0.8*np.size(potato_late_blight_count_np))],axis=0),potato_early_blight_count_np[:int(0.8*np.size(potato_early_blight_count_np))],axis=0)\n",
                "    potato_is_healthy_res_test=np.concatenate(np.concatenate(potato_healthy_count_np[int(0.8*np.size(potato_healthy_count_np)):],potato_late_blight_count_np[int(0.8*np.size(potato_late_blight_count_np)):],axis=0),potato_early_blight_count_np[int(0.8*np.size(potato_early_blight_count_np)):],axis=0)\n",
                "    \n",
                "    potato_is_late_img_train=np.concatenate(potato_late_blight[:int(0.8*np.size(potato_late_blight))],potato_early_blight[:int(0.8*np.size(potato_early_blight))],axis=0)\n",
                "    potato_is_late_img_test=np.concatenate(potato_late_blight[int(0.8*np.size(potato_late_blight)):],potato_early_blight[int(0.8*np.size(potato_early_blight)):],axis=0)\n",
                "    potato_early_blight_count_np=1-potato_early_blight_count_np\n",
                "    potato_is_late_res_train=np.concatenate(potato_late_blight_count_np[:int(0.8*np.size(potato_late_blight_count_np,axis=0))],potato_early_blight_count_np[:int(0.8*np.size(potato_early_blight_count_np,axis=0))],axis=0)\n",
                "    potato_is_late_res_test=np.concatenate(potato_late_blight_count_np[int(0.8*np.size(potato_late_blight_count_np)):],potato_early_blight_count_np[int(0.8*np.size(potato_early_blight_count_np)):],axis=0)\n",
                "\n",
                "    return (potato_is_healthy_img_train,potato_is_healthy_res_train,potato_is_healthy_img_test,potato_is_healthy_res_test,potato_is_late_img_train,potato_is_late_res_train,potato_is_late_img_test,potato_is_late_res_test)\n",
                "\n",
                "\n",
                "potato_is_healthy_img_train,potato_is_healthy_res_train,potato_is_healthy_img_test,potato_is_healthy_res_test,potato_is_late_img_train,potato_is_late_res_train,potato_is_late_img_test,potato_is_late_res_test=load_data_set()\n",
                "\n"
            ]
        },
        {
            "cell_type": "code",
            "execution_count": null,
            "metadata": {},
            "outputs": [],
            "source": [
                "#Global variables for all train set\n",
                "#currently random\n",
                "training_set_number=6\n",
                "train_img_org=np.random.randint(low=0,high=255,size=(training_set_number,1000,1000,3))# \n",
                "train_result_org=np.random.randint(low=0,high=255,size=(training_set_number,1))\n",
                "train_img_altered=train_img_org.reshape(train_img_org.shape[0],-1).T\n",
                "\n",
                "testing_set_number=6\n",
                "test_img_org=np.random.randint(low=0,high=255,size=(testing_set_number ,1000,1000,3))# \n",
                "test_result_org=np.random.randint(low=0,high=255,size=(1,testing_set_number))\n",
                "test_img_altered=train_img_org.reshape(test_img_org.shape[0],-1).T"
            ]
        },
        {
            "cell_type": "code",
            "execution_count": null,
            "metadata": {},
            "outputs": [],
            "source": [
                "# Altering training set and testing set\n",
                "\n",
                "def alteration():\n",
                "    return (train_img_altered,train_result_org,test_img_altered,test_result_org)\n",
                "\n",
                "train_img_altered,train_result,test_img_altered,test_result=alteration()"
            ]
        },
        {
            "cell_type": "code",
            "execution_count": null,
            "metadata": {},
            "outputs": [],
            "source": [
                "#Useful Functions\n",
                "\n",
                "def relu_sigmoid(z):\n",
                "    res=1/(1+np.exp(-z))\n",
                "    return res\n",
                "\n",
                "def define_matrices(dim):\n",
                "    w=np.random.randint(low=0,high=10,size=(dim,1))\n",
                "    b=0\n",
                "    return (w,b)\n",
                "\n",
                "def propagate(w,b,X,Y):\n",
                "    \n",
                "    A=relu_sigmoid(np.dot(w.T,X)+b)\n",
                "    #cost=-(np.dot(Y,np.log(A).T+np.dot(1-Y,np.log(1-A).T)))/training_set_number    \n",
                "    dw=np.dot(X,(A-Y).T)/training_set_number\n",
                "    db=(np.sum(A-Y))/training_set_number\n",
                "    return (dw,db)\n",
                " \n",
                "def training(w,b,X,Y,learning_rate,iterations):\n",
                "    \n",
                "    for i in range(0,iterations):\n",
                "        dw,db=propagate(w,b,X,Y)\n",
                "        w=w-learning_rate*dw\n",
                "        b=b-learning_rate*db\n",
                "        "
            ]
        }
    ],
    "metadata": {
        "kernelspec": {
            "display_name": "Python 3.10.4 64-bit",
            "language": "python",
            "name": "python3"
        },
        "language_info": {
            "codemirror_mode": {
                "name": "ipython",
                "version": 3
            },
            "file_extension": ".py",
            "mimetype": "text/x-python",
            "name": "python",
            "nbconvert_exporter": "python",
            "pygments_lexer": "ipython3",
            "version": "3.10.4"
        },
        "orig_nbformat": 4,
        "vscode": {
            "interpreter": {
                "hash": "26de051ba29f2982a8de78e945f0abaf191376122a1563185a90213a26c5da77"
            }
        }
    },
    "nbformat": 4,
    "nbformat_minor": 2
}
