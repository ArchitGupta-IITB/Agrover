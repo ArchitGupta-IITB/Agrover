{
    "cells": [{
        "cell_type": "code",
        "execution_count": 1,
        "metadata": {},
        "outputs": [{
            "name": "stdout",
            "output_type": "stream",
            "text": [
                "Disease\n"
            ]
        }],
        "source": [
            "\n",
            "import string\n",
            "import cv2\n",
            "import sys\n",
            "import matplotlib as plt\n",
            "\n",
            "\n",
            "\n",
            "def ProcessImage():\n",
            "    global filename\n",
            "    global processing_factor\n",
            "    OriginalImage = cv2.imread(filename,1)\n",
            "    cv2.imshow(\"h\",OriginalImage)\n",
            "    b = OriginalImage[:, :, 0]\n",
            "    green_original = OriginalImage[:, :, 1]\n",
            "    r = OriginalImage[:, :, 2]\n",
            "    \n",
            "    #cv2.imshow(\"Red Channel\", r)\n",
            "    #cv2.imshow(\"Green Channel\", green_original)\n",
            "    #cv2.imshow(\"Blue Channel\", b)\n",
            "    Disease = r - green_original\n",
            "    global Processed\n",
            "    Processed = b\n",
            "    GetProcessed(OriginalImage)\n",
            "    #cv2.imshow(\"Processed Channel\", Processed)\n",
            "    ProcessingFactor = processing_factor\n",
            "    for i in range(0, OriginalImage.shape[0]):\n",
            "        for j in range(0, OriginalImage.shape[1]):\n",
            "            if int(green_original[i, j]) > ProcessingFactor:\n",
            "                Disease[i, j] = 255\n",
            "    cv2.imshow(\"Disease Image\", Disease)\n",
            "    return DisplayDiseasePercentage(Disease)\n",
            "    #S.bind('<ButtonRelease-1>', ProcessImage)\n",
            "\n",
            "\n",
            "def GetProcessed(OriginalImage):\n",
            "    global Processed\n",
            "    for i in range(0, OriginalImage.shape[0]):\n",
            "        for j in range(0, OriginalImage.shape[1]):\n",
            "            if OriginalImage[i, j, 0] > 200 and OriginalImage[i, j, 1] > 200 and OriginalImage[i, j, 2] > 200:\n",
            "                Processed[i, j] = 255\n",
            "            else:\n",
            "                Processed[i, j] = 0\n",
            "\n",
            "\n",
            "\n",
            "def DisplayDiseasePercentage(Disease):\n",
            "    global processing_factor\n",
            "    Count = 0\n",
            "    Res = 0\n",
            "    for i in range(0, Disease.shape[0]):\n",
            "        for j in range(0, Disease.shape[1]):\n",
            "            if Processed[i, j] == 0:\n",
            "                Res += 1\n",
            "            if Disease[i, j] < processing_factor:\n",
            "                Count += 1\n",
            "    Percent = (Count / Res) * 100\n",
            "    return Percent\n",
            "    #DiseasePercent.set(\"Percentage Disease: \" + str(round(Percent, 2)) + \"%\")\n",
            "\n",
            "\n",
            "Processed = None\n",
            "processing_factor=142\n",
            "#filename=r\"D:\\Coding Workspace\\Agrover\\Agrover\\Image Detection\\0a8a68ee-f587-4dea-beec-79d02e7d3fa4___RS_Early.B 8461.JPG\"\n",
            "#filename=r\"D:\\Coding Workspace\\Agrover\\Agrover\\Image Detection\\0b3e5032-8ae8-49ac-8157-a1cac3df01dd___RS_HL 1817.JPG\"\n",
            "#filename=r\"D:\\Coding Workspace\\Agrover\\Agrover\\Image Detection\\0a8a68ee-f587-4dea-beec-79d02e7d3fa4___RS_Early.B 8461.JPG\"\n",
            "#filename=r\"D:\\Coding Workspace\\Agrover\\Agrover\\Image Detection\\PotatoPics\\Potato___Early_blight\\0a6983a5-895e-4e68-9edb-88adf79211e9___RS_Early.B 9072.JPG\"\n",
            "#filename=r\"D:\\Coding Workspace\\Agrover\\Agrover\\Image Detection\\PotatoPics\\Potato___healthy\\0f4ebc5a-d646-436a-919d-961342997cde___RS_HL 4183.JPG\"\n",
            "filename=\"D:\\Coding Workspace\\Agrover\\Agrover\\Image Detection\\download.jpg\"\n",
            "#filename=r\"D:\\Coding Workspace\\Agrover\\Agrover\\Image Detection\\fresh-green-leaf-potato-plant-260nw-449327257.jpg\"\n",
            "result=ProcessImage()\n",
            "if result>20:\n",
            "    print(\"Disease\")\n",
            "else:\n",
            "    print(\"Normal\")"
        ]
    }],
    "metadata": {
        "kernelspec": {
            "display_name": "Python 3.10.4 64-bit",
            "language": "python",
            "name": "python3"
        },
        "language_info": {
            "codemirror_mode": {
                "name": "ipython",
                "version": 3
            },
            "file_extension": ".py",
            "mimetype": "text/x-python",
            "name": "python",
            "nbconvert_exporter": "python",
            "pygments_lexer": "ipython3",
            "version": "3.10.4"
        },
        "orig_nbformat": 4,
        "vscode": {
            "interpreter": {
                "hash": "26de051ba29f2982a8de78e945f0abaf191376122a1563185a90213a26c5da77"
            }
        }
    },
    "nbformat": 4,
    "nbformat_minor": 2
}