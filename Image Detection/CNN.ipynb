{
 "cells": [
  {
   "cell_type": "code",
   "execution_count": null,
   "metadata": {},
   "outputs": [],
   "source": [
    "#All necesary libraries\n",
    "import pandas\n",
    "import numpy as np\n",
    "import cv2\n"
   ]
  },
  {
   "cell_type": "code",
   "execution_count": null,
   "metadata": {},
   "outputs": [],
   "source": [
    "#Global variables for all train set\n",
    "#currently random\n",
    "training_set_number=6\n",
    "train_img_org=np.random.randint(low=0,high=255,size=(training_set_number,1000,1000,3))# \n",
    "train_result_org=np.random.randint(low=0,high=255,size=(training_set_number,1))\n",
    "train_img_altered=train_img_org.reshape(train_img_org.shape[0],-1).T\n",
    "\n",
    "testing_set_number=6\n",
    "test_img_org=np.random.randint(low=0,high=255,size=(testing_set_number ,1000,1000,3))# \n",
    "test_result_org=np.random.randint(low=0,high=255,size=(1,testing_set_number))\n",
    "test_img_altered=train_img_org.reshape(test_img_org.shape[0],-1).T"
   ]
  },
  {
   "cell_type": "code",
   "execution_count": null,
   "metadata": {},
   "outputs": [],
   "source": [
    "# Altering training set and testing set\n",
    "\n",
    "def alteration():\n",
    "    return (train_img_altered,train_result_org,test_img_altered,test_result_org)\n",
    "\n",
    "train_img_altered,train_result,test_img_altered,test_result=alteration()"
   ]
  },
  {
   "cell_type": "code",
   "execution_count": null,
   "metadata": {},
   "outputs": [],
   "source": [
    "#Useful Functions\n",
    "\n",
    "def relu_sigmoid(z):\n",
    "    res=1/(1+np.exp(-z))\n",
    "    return res\n",
    "\n",
    "def define_matrices(dim):\n",
    "    w=np.random.randint(low=0,high=10,size=(dim,1))\n",
    "    b=0\n",
    "    return (w,b)\n",
    "\n",
    "def propagate(w,b,X,Y):\n",
    "    \n",
    "    A=relu_sigmoid(np.dot(w.T,X)+b)\n",
    "    #cost=-(np.dot(Y,np.log(A).T+np.dot(1-Y,np.log(1-A).T)))/training_set_number    \n",
    "    dw=np.dot(X,(A-Y).T)/training_set_number\n",
    "    db=(np.sum(A-Y))/training_set_number\n",
    "    return (dw,db)\n",
    " \n",
    "def training(w,b,X,Y,learning_rate,iterations):\n",
    "    \n",
    "    for i in range(0,iterations):\n",
    "        dw,db=propagate(w,b,X,Y)\n",
    "        w=w-learning_rate*dw\n",
    "        b=b-learning_rate*db\n",
    "        "
   ]
  }
 ],
 "metadata": {
  "kernelspec": {
   "display_name": "Python 3.10.4 64-bit",
   "language": "python",
   "name": "python3"
  },
  "language_info": {
   "name": "python",
   "version": "3.10.4"
  },
  "orig_nbformat": 4,
  "vscode": {
   "interpreter": {
    "hash": "26de051ba29f2982a8de78e945f0abaf191376122a1563185a90213a26c5da77"
   }
  }
 },
 "nbformat": 4,
 "nbformat_minor": 2
}
